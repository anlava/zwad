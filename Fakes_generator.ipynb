{
 "cells": [
  {
   "cell_type": "code",
   "execution_count": 2,
   "metadata": {},
   "outputs": [
    {
     "ename": "ImportError",
     "evalue": "cannot import name 'six' from 'astropy.extern' (/usr/local/lib/python3.7/site-packages/astropy/extern/__init__.py)",
     "output_type": "error",
     "traceback": [
      "\u001b[0;31m---------------------------------------------------------------------------\u001b[0m",
      "\u001b[0;31mImportError\u001b[0m                               Traceback (most recent call last)",
      "\u001b[0;32m<ipython-input-2-fc22583e8a22>\u001b[0m in \u001b[0;36m<module>\u001b[0;34m\u001b[0m\n\u001b[1;32m      5\u001b[0m \u001b[0;32mimport\u001b[0m \u001b[0mpandas\u001b[0m \u001b[0;32mas\u001b[0m \u001b[0mpd\u001b[0m\u001b[0;34m\u001b[0m\u001b[0;34m\u001b[0m\u001b[0m\n\u001b[1;32m      6\u001b[0m \u001b[0;32mimport\u001b[0m \u001b[0mnumpy\u001b[0m \u001b[0;32mas\u001b[0m \u001b[0mnp\u001b[0m\u001b[0;34m\u001b[0m\u001b[0;34m\u001b[0m\u001b[0m\n\u001b[0;32m----> 7\u001b[0;31m \u001b[0;32mimport\u001b[0m \u001b[0msncosmo\u001b[0m\u001b[0;34m\u001b[0m\u001b[0;34m\u001b[0m\u001b[0m\n\u001b[0m",
      "\u001b[0;32m/usr/local/lib/python3.7/site-packages/sncosmo/__init__.py\u001b[0m in \u001b[0;36m<module>\u001b[0;34m\u001b[0m\n\u001b[1;32m    136\u001b[0m \u001b[0;34m\u001b[0m\u001b[0m\n\u001b[1;32m    137\u001b[0m \u001b[0;31m# import all the things into the top-level namespace\u001b[0m\u001b[0;34m\u001b[0m\u001b[0;34m\u001b[0m\u001b[0;34m\u001b[0m\u001b[0m\n\u001b[0;32m--> 138\u001b[0;31m \u001b[0;32mfrom\u001b[0m \u001b[0;34m.\u001b[0m\u001b[0mbandpasses\u001b[0m \u001b[0;32mimport\u001b[0m \u001b[0;34m*\u001b[0m\u001b[0;34m\u001b[0m\u001b[0;34m\u001b[0m\u001b[0m\n\u001b[0m\u001b[1;32m    139\u001b[0m \u001b[0;32mfrom\u001b[0m \u001b[0;34m.\u001b[0m\u001b[0mmagsystems\u001b[0m \u001b[0;32mimport\u001b[0m \u001b[0;34m*\u001b[0m\u001b[0;34m\u001b[0m\u001b[0;34m\u001b[0m\u001b[0m\n\u001b[1;32m    140\u001b[0m \u001b[0;32mfrom\u001b[0m \u001b[0;34m.\u001b[0m\u001b[0mspectrum\u001b[0m \u001b[0;32mimport\u001b[0m \u001b[0;34m*\u001b[0m\u001b[0;34m\u001b[0m\u001b[0;34m\u001b[0m\u001b[0m\n",
      "\u001b[0;32m/usr/local/lib/python3.7/site-packages/sncosmo/bandpasses.py\u001b[0m in \u001b[0;36m<module>\u001b[0;34m\u001b[0m\n\u001b[1;32m      9\u001b[0m \u001b[0;32mimport\u001b[0m \u001b[0mastropy\u001b[0m\u001b[0;34m.\u001b[0m\u001b[0munits\u001b[0m \u001b[0;32mas\u001b[0m \u001b[0mu\u001b[0m\u001b[0;34m\u001b[0m\u001b[0;34m\u001b[0m\u001b[0m\n\u001b[1;32m     10\u001b[0m \u001b[0;34m\u001b[0m\u001b[0m\n\u001b[0;32m---> 11\u001b[0;31m \u001b[0;32mfrom\u001b[0m \u001b[0;34m.\u001b[0m\u001b[0m_registry\u001b[0m \u001b[0;32mimport\u001b[0m \u001b[0mRegistry\u001b[0m\u001b[0;34m\u001b[0m\u001b[0;34m\u001b[0m\u001b[0m\n\u001b[0m\u001b[1;32m     12\u001b[0m \u001b[0;32mfrom\u001b[0m \u001b[0;34m.\u001b[0m\u001b[0mutils\u001b[0m \u001b[0;32mimport\u001b[0m \u001b[0mwarn_once\u001b[0m\u001b[0;34m,\u001b[0m \u001b[0mintegration_grid\u001b[0m\u001b[0;34m\u001b[0m\u001b[0;34m\u001b[0m\u001b[0m\n\u001b[1;32m     13\u001b[0m \u001b[0;32mfrom\u001b[0m \u001b[0;34m.\u001b[0m\u001b[0mconstants\u001b[0m \u001b[0;32mimport\u001b[0m \u001b[0mHC_ERG_AA\u001b[0m\u001b[0;34m,\u001b[0m \u001b[0mSPECTRUM_BANDFLUX_SPACING\u001b[0m\u001b[0;34m\u001b[0m\u001b[0;34m\u001b[0m\u001b[0m\n",
      "\u001b[0;32m/usr/local/lib/python3.7/site-packages/sncosmo/_registry.py\u001b[0m in \u001b[0;36m<module>\u001b[0;34m\u001b[0m\n\u001b[1;32m      3\u001b[0m \u001b[0;32mfrom\u001b[0m \u001b[0mcollections\u001b[0m \u001b[0;32mimport\u001b[0m \u001b[0mOrderedDict\u001b[0m\u001b[0;34m\u001b[0m\u001b[0;34m\u001b[0m\u001b[0m\n\u001b[1;32m      4\u001b[0m \u001b[0;34m\u001b[0m\u001b[0m\n\u001b[0;32m----> 5\u001b[0;31m \u001b[0;32mfrom\u001b[0m \u001b[0mastropy\u001b[0m\u001b[0;34m.\u001b[0m\u001b[0mextern\u001b[0m \u001b[0;32mimport\u001b[0m \u001b[0msix\u001b[0m\u001b[0;34m\u001b[0m\u001b[0;34m\u001b[0m\u001b[0m\n\u001b[0m\u001b[1;32m      6\u001b[0m \u001b[0;34m\u001b[0m\u001b[0m\n\u001b[1;32m      7\u001b[0m \u001b[0;34m\u001b[0m\u001b[0m\n",
      "\u001b[0;31mImportError\u001b[0m: cannot import name 'six' from 'astropy.extern' (/usr/local/lib/python3.7/site-packages/astropy/extern/__init__.py)"
     ]
    }
   ],
   "source": [
    "# %matplotlib notebook\n",
    "from scipy.interpolate import interp1d\n",
    "from matplotlib import pyplot as plt\n",
    "from scipy.interpolate import UnivariateSpline\n",
    "import pandas as pd\n",
    "import numpy as np\n",
    "import sncosmo"
   ]
  },
  {
   "cell_type": "code",
   "execution_count": null,
   "metadata": {},
   "outputs": [],
   "source": [
    "class ZTF_fake_LC(object):\n",
    "    def __init__(self, object_name, ZTF_cad_name, input_folder='../data_input'):\n",
    "        self.object_name = object_name\n",
    "        self.ZTF_cad_name = ZTF_cad_name\n",
    "        self.data = pd.read_csv(input_folder+'/LC-input/'+self.object_name+'.csv')\n",
    "        self.cad_file = pd.read_csv(input_folder+'/ZTF_cadence/'+self.ZTF_cad_name+'.csv')\n",
    "        self.time_field = self.cad_file['mjd']\n",
    "        self.time = self.data['mjd']\n",
    "        self.mag = self.data['mag']\n",
    "#         self.magerr = self.data['magerr']\n",
    "\n",
    "        \n",
    "    def generate_fake_LC(self, smooth_factor=0.1, shift=0., k=3):\n",
    "        self.shift = shift\n",
    "        delta_t = self.time_field[0] - self.time[0] + self.shift\n",
    "        self.time_new = self.time + delta_t \n",
    "        self.spl = UnivariateSpline(self.time_new, self.mag, k=k)\n",
    "        self.time_int = np.linspace(self.time_new.min(axis=0), self.time_new.max(axis=0), num=1000, endpoint=True)\n",
    "        self.smoth_factor = smooth_factor\n",
    "        self.spl.set_smoothing_factor(self.smoth_factor)\n",
    "        if np.min(self.time_field)> np.min(self.time_new) and  np.max(self.time_field)< np.max(self.time_new):\n",
    "            self.complete_cadence = True\n",
    "        else :\n",
    "            self.complete_cadence = False\n",
    "            Filtre = np.ones(len(self.time_field), dtype = bool)\n",
    "            for i, t  in enumerate(self.time_field):\n",
    "                if t < np.min(self.time_new) or t > np.max(self.time_new):\n",
    "                    Filtre[i] = False\n",
    "            self.time_field = self.time_field[Filtre]\n",
    "        print(self.complete_cadence)  \n",
    "        self.mag_out = self.spl(self.time_field) \n",
    "        self.magerr_out = 0.0297 * self.mag_out - 0.4179\n",
    "    def visualise_intet_fit(self): \n",
    "        plt.plot(self.time_int, self.spl(self.time_int), 'b', lw=2, label='UniSpl') # interpolation\n",
    "        plt.errorbar(self.time_new, self.mag,  linestyle='',\n",
    "                     color='orange', marker='.', label='data_in')\n",
    "        plt.errorbar(self.time_field, self.mag_out, yerr=self.magerr_out,\n",
    "                     linestyle='', marker='.',color='black', label='data_out')\n",
    "        plt.gca().invert_yaxis()\n",
    "        plt.legend(loc='best')\n",
    "        plt.show()\n",
    "        plt.close()\n",
    "        \n",
    "        \n",
    "    def plot_fake_LC(self, figsize=(6,5), output_folder='../data_output/'):\n",
    "        fig = plt.figure(figsize=figsize)\n",
    "\n",
    "        plt.errorbar(self.time_field, self.mag_out, yerr=self.magerr_out, \n",
    "                     linestyle='', marker='.',color='black', \n",
    "                     label= 'smoth factor = '+str(self.smoth_factor)+'\\nshift = '+str(self.shift))\n",
    "        plt.xlabel('mjd', fontsize=10)\n",
    "        plt.ylabel('mag', fontsize=10)\n",
    "        plt.gca().invert_yaxis()\n",
    "        plt.legend()\n",
    "        plt.savefig(output_folder+'plots/'+self.ZTF_cad_name +'/'+self.object_name+'_'+str(self.smoth_factor)+'_'+str(self.shift)+'_'+str(self.complete_cadence)+'.png')     \n",
    "        \n",
    "    def write_output(self, output_folder='../data_output/'):\n",
    "        d = {'mjd': self.time_field, 'mag': self.mag_out, 'magerr': self.magerr_out, 'clrcoeff': None}\n",
    "        df = pd.DataFrame(data=d)\n",
    "        df.to_csv(output_folder+'fake_LC/'+ self.ZTF_cad_name+'/'+self.object_name+'_'+str(self.smoth_factor)+'_'+str(self.shift)+'_'+str(self.complete_cadence)+'.csv')          \n",
    "        \n"
   ]
  },
  {
   "cell_type": "code",
   "execution_count": null,
   "metadata": {},
   "outputs": [],
   "source": [
    "ztf_fake = ZTF_fake_LC('ZTF18aasszwr_format_r', 'FID807')\n",
    "ztf_fake.generate_fake_LC(smooth_factor=0.3, shift=-20)\n",
    "ztf_fake.visualise_intet_fit()\n"
   ]
  },
  {
   "cell_type": "code",
   "execution_count": null,
   "metadata": {},
   "outputs": [],
   "source": [
    "ztf_fake.plot_fake_LC()\n",
    "ztf_fake.write_output()"
   ]
  },
  {
   "cell_type": "code",
   "execution_count": null,
   "metadata": {},
   "outputs": [],
   "source": []
  },
  {
   "cell_type": "code",
   "execution_count": null,
   "metadata": {},
   "outputs": [],
   "source": []
  }
 ],
 "metadata": {
  "kernelspec": {
   "display_name": "Python 3",
   "language": "python",
   "name": "python3"
  }
 },
 "nbformat": 4,
 "nbformat_minor": 2
}
