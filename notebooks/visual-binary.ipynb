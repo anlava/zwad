{
 "cells": [
  {
   "cell_type": "code",
   "execution_count": 1,
   "metadata": {},
   "outputs": [],
   "source": [
    "%matplotlib inline\n",
    "import matplotlib\n",
    "import matplotlib.pyplot as plt\n",
    "\n",
    "import os.path\n",
    "from io import BytesIO\n",
    "\n",
    "import numpy as np\n",
    "import pandas as pd\n",
    "\n",
    "matplotlib.rcParams['text.usetex'] = True\n",
    "matplotlib.rcParams['font.size'] = 13"
   ]
  },
  {
   "cell_type": "code",
   "execution_count": 2,
   "metadata": {},
   "outputs": [],
   "source": [
    "oid = '695211200077906'\n",
    "m_sep = 16.6\n",
    "\n",
    "gaia_ra = np.array([10.07633011214, 10.07691035310])\n",
    "gaia_de = np.array([+41.60933874390, +41.60983555758])"
   ]
  },
  {
   "cell_type": "code",
   "execution_count": 3,
   "metadata": {},
   "outputs": [],
   "source": [
    "path = '../data/695211200077906.csv'\n",
    "if os.path.exists('../data/695211200077906.csv'):\n",
    "    table_coord = pd.read_csv(path)\n",
    "else:\n",
    "    url = 'https://irsa.ipac.caltech.edu/cgi-bin/ZTF/nph_light_curves?FORMAT=CSV&ID={}'.format(oid)\n",
    "    table_coord = pd.read_csv(url)"
   ]
  },
  {
   "cell_type": "code",
   "execution_count": 4,
   "metadata": {},
   "outputs": [],
   "source": [
    "data = BytesIO(b'''mjd\tmag\tfwhm\n",
    "58324.46707\t16.888\t2.48\n",
    "58325.28382\t16.974\t2.49\n",
    "58325.49042\t16.938\t2.15\n",
    "58326.35757\t16.919\t2.51\n",
    "58326.38413\t16.937\t1.93\n",
    "58326.40996\t16.392\t3.96\n",
    "58327.37939\t16.903\t1.97\n",
    "58327.40676\t16.366\t4.15\n",
    "58327.43618\t16.913\t1.60\n",
    "58328.37850\t16.937\t1.85\n",
    "''')\n",
    "table_fwhm = pd.read_csv(data, sep='\\t')"
   ]
  },
  {
   "cell_type": "code",
   "execution_count": 5,
   "metadata": {},
   "outputs": [],
   "source": [
    "def plot_coord(ax, table):\n",
    "    idx = table.mag > m_sep\n",
    "    ra = (table.ra - table.ra.mean()) * 3600 * np.cos(np.radians(table.dec))\n",
    "    dec = (table.dec - table.dec.mean()) * 3600\n",
    "    \n",
    "    ax.set_xlabel(r'$\\Delta \\alpha \\cdot \\cos{\\delta}$, arcsec')\n",
    "    ax.set_ylabel(r'$\\Delta \\delta$, arcsec')\n",
    "    ax.plot(ra[~idx], dec[~idx], ls='', marker='^', ms=8, label=r'$m < {}$\\,mag'.format(m_sep))\n",
    "    ax.plot(ra[idx], dec[idx], ls='', marker='v', ms=8, label=r'$m > {}$\\,mag'.format(m_sep))\n",
    "    g_ra = (gaia_ra - table.ra.mean()) * 3600 * np.cos(np.radians(gaia_de))\n",
    "    g_de = (gaia_de - table.dec.mean()) * 3600\n",
    "    ax.plot(g_ra, g_de, ls='', marker='X', color='black', ms=18, label='')\n",
    "    ax.legend()\n",
    "    \n",
    "def plot_fwhm(ax, table):\n",
    "    ax.set_xlabel(r'FWHM, arcsec')\n",
    "    ax.set_ylabel(r'm')\n",
    "    ax.invert_yaxis()\n",
    "    ax.plot(table.fwhm, table.mag, 'x', ms=10, color='black')"
   ]
  },
  {
   "cell_type": "code",
   "execution_count": 6,
   "metadata": {},
   "outputs": [
    {
     "data": {
      "image/png": "[encoded data removed]",
      "text/plain": [
       "<Figure size 360x360 with 1 Axes>"
      ]
     },
     "metadata": {
      "needs_background": "light"
     },
     "output_type": "display_data"
    }
   ],
   "source": [
    "fig, ax = plt.subplots(1, 1, figsize=(5, 5), constrained_layout=True)\n",
    "# fig.suptitle(r'Magnitude dependecy on PSF position')\n",
    "\n",
    "# plot_fwhm(ax1, table_fwhm)\n",
    "plot_coord(ax, table_coord)\n",
    "plt.title(r'Magnitude dependecy on image centre position')\n",
    "\n",
    "plt.savefig('../figs/{}_psf.pdf'.format(oid))"
   ]
  },
  {
   "cell_type": "code",
   "execution_count": null,
   "metadata": {},
   "outputs": [],
   "source": []
  }
 ],
 "metadata": {
  "kernelspec": {
   "display_name": "Python 3",
   "language": "python",
   "name": "python3"
  },
  "language_info": {
   "codemirror_mode": {
    "name": "ipython",
    "version": 3
   },
   "file_extension": ".py",
   "mimetype": "text/x-python",
   "name": "python",
   "nbconvert_exporter": "python",
   "pygments_lexer": "ipython3",
   "version": "3.9.0"
  }
 },
 "nbformat": 4,
 "nbformat_minor": 4
}
