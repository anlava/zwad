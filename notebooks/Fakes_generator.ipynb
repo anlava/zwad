{
 "cells": [
  {
   "cell_type": "code",
   "execution_count": 1,
   "metadata": {},
   "outputs": [],
   "source": [
    "# %matplotlib notebook\n",
    "import requests\n",
    "from scipy.interpolate import interp1d\n",
    "from matplotlib import pyplot as plt\n",
    "from scipy.interpolate import UnivariateSpline\n",
    "import pandas as pd\n",
    "import numpy as np\n",
    "from pathlib import Path\n",
    "import os\n",
    "import glob"
   ]
  },
  {
   "cell_type": "code",
   "execution_count": 2,
   "metadata": {},
   "outputs": [],
   "source": [
    "class ZTF_fake_LC(object):\n",
    "    def __init__(self, object_name, ZTF_cad_name, input_folder='../data/fakes/input'):\n",
    "        self.object_name = object_name\n",
    "        self.ZTF_cad_name = ZTF_cad_name\n",
    "        if not(object_name.startswith('flat')):\n",
    "            self.data = pd.read_csv(input_folder+'/LC-input/'+self.object_name+'.csv')\n",
    "            self.time = self.data['mjd']\n",
    "            self.mag = self.data['mag']\n",
    "#             self.magerr = self.data['magerr']\n",
    "        self.cad_file = pd.read_csv(input_folder+'/ZTF_cadence/'+self.ZTF_cad_name+'.csv')\n",
    "        self.time_field = self.cad_file['mjd']\n",
    "\n",
    "\n",
    "    @classmethod\n",
    "    def from_output(cls, filename):\n",
    "        path = Path(filename)\n",
    "        folder_name = path.absolute().parent.name\n",
    "        basename, _ = os.path.splitext(path.name)\n",
    "        \n",
    "        ZTF_cad_name = folder_name\n",
    "        object_name, smoth_factor, shift, complete_cadence = basename.rsplit('_', maxsplit=3)\n",
    "        print(object_name, smoth_factor, shift, complete_cadence)\n",
    "        self = cls(object_name, ZTF_cad_name)\n",
    "        self.smoth_factor = float(smoth_factor)\n",
    "        self.complete_cadence = True if complete_cadence == 'True' else False\n",
    "        self.shift = float(shift)\n",
    "        \n",
    "        data = pd.read_csv(filename)\n",
    "        self.time_field = data['mjd']\n",
    "        self.mag_out = data['mag']\n",
    "        self.magerr_out = data['magerr']\n",
    "        return self\n",
    "        \n",
    "        \n",
    "    def generate_fake_LC(self, smoth_factor=0.1, shift=0., k=3):\n",
    "        self.shift = shift\n",
    "        delta_t = self.time_field[0] - self.time[0] + self.shift\n",
    "        self.time_new = self.time + delta_t \n",
    "        self.spl = UnivariateSpline(self.time_new, self.mag, k=k)\n",
    "        self.time_int = np.linspace(self.time_new.min(axis=0), self.time_new.max(axis=0), num=1000, endpoint=True)\n",
    "        self.smoth_factor = smoth_factor\n",
    "        self.spl.set_smoothing_factor(self.smoth_factor)\n",
    "        if np.min(self.time_field)> np.min(self.time_new) and  np.max(self.time_field)< np.max(self.time_new):\n",
    "            self.complete_cadence = True\n",
    "        else :\n",
    "            self.complete_cadence = False\n",
    "            Filtre = np.ones(len(self.time_field), dtype = bool)\n",
    "            for i, t  in enumerate(self.time_field):\n",
    "                if t < np.min(self.time_new) or t > np.max(self.time_new):\n",
    "                    Filtre[i] = False\n",
    "            self.time_field = self.time_field[Filtre]\n",
    "        print(self.complete_cadence)  \n",
    "        self.mag_out = self.spl(self.time_field) \n",
    "        self.magerr_out = 0.0297 * self.mag_out - 0.4179\n",
    "    \n",
    "    def generate_flat_fake_LC(self, mag_input=14. ,noise=0.2):\n",
    "        self.smoth_factor = 0\n",
    "        self.shift = 0\n",
    "        self.complete_cadence = True\n",
    "        self.mag_out = np.random.normal(loc=mag_input, scale=noise, size=len(self.time_field))\n",
    "        self.magerr_out = 0.0297 * self.mag_out - 0.4179\n",
    "\n",
    "    def visualise_intet_fit(self): \n",
    "        plt.plot(self.time_int, self.spl(self.time_int), 'b', lw=2, label='UniSpl') # interpolation\n",
    "        plt.errorbar(self.time_new, self.mag,  linestyle='',\n",
    "                     color='orange', marker='.', label='data_in')\n",
    "        plt.errorbar(self.time_field, self.mag_out, yerr=self.magerr_out,\n",
    "                     linestyle='', marker='.',color='black', label='data_out')\n",
    "        plt.gca().invert_yaxis()\n",
    "        plt.legend(loc='best')\n",
    "        plt.show()\n",
    "        plt.close()\n",
    "        \n",
    "        \n",
    "    def plot_fake_LC(self, figsize=(6,5), output_folder='../figs/fakes/'):\n",
    "        fig = plt.figure(figsize=figsize)\n",
    "        plt.errorbar(self.time_field, self.mag_out, yerr=self.magerr_out, \n",
    "                     linestyle='', marker='.',color='black', \n",
    "                     label= 'smoth factor = '+str(self.smoth_factor)+'\\nshift = '+str(self.shift))\n",
    "        plt.xlabel('mjd', fontsize=10)\n",
    "        plt.ylabel('mag', fontsize=10)\n",
    "        plt.gca().invert_yaxis()\n",
    "        plt.legend()\n",
    "        plt.savefig(output_folder+self.ZTF_cad_name +'/'+self.object_name+'_'+str(self.smoth_factor)+'_'+str(self.shift)+'_'+str(self.complete_cadence)+'.png')   \n",
    "        plt.show()\n",
    "        plt.close()\n",
    "        \n",
    "    def write_output(self, output_folder='../data/fakes/output/'):\n",
    "        d = {'mjd': self.time_field, 'mag': self.mag_out, 'magerr': self.magerr_out, 'clrcoeff': None}\n",
    "        df = pd.DataFrame(data=d)\n",
    "        df.to_csv(output_folder+ self.ZTF_cad_name+'/'+self.object_name+'_'+str(self.smoth_factor)+'_'+str(self.shift)+'_'+str(self.complete_cadence)+'.csv')          \n",
    "        \n",
    "    def extract_features(self):\n",
    "        light_curve = [dict(t=t, m=m, err=err) for t, m, err in zip(self.time_field, self.mag_out, self.magerr_out)]\n",
    "        resp = requests.post('http://features.lc.snad.space/', json=dict(light_curve=light_curve))\n",
    "        resp.raise_for_status()\n",
    "        self.features = resp.json()\n",
    "    \n",
    "\n",
    "def write_features(fakes, names, output_folder='../data/fakes/output', suffix='_m31_fake'):\n",
    "    if isinstance(names, str):\n",
    "        with open(names) as fh:\n",
    "            names = fh.read().split()\n",
    "    oid = np.memmap(os.path.join(output_folder, 'oid' + suffix + '.dat'), mode='w+',\n",
    "                    dtype=np.uint64, shape=len(fakes))\n",
    "    dtype = [(name, np.float32) for name in names]\n",
    "    feature = np.memmap(os.path.join(output_folder, 'feature' + suffix + '.dat'), mode='w+',\n",
    "                        dtype=dtype, shape=len(fakes))\n",
    "    for i, fake in enumerate(fakes):\n",
    "        oid[i] = i\n",
    "        for name, value in fake.features.items():\n",
    "            feature[name][i] = value\n",
    "    df = pd.DataFrame(data=[fake.object_name for fake in fakes], index=oid)\n",
    "    df.to_csv(os.path.join(output_folder, 'fakes' + suffix + '.csv'))"
   ]
  },
  {
   "cell_type": "markdown",
   "metadata": {},
   "source": [
    "# Generate fake LC from files"
   ]
  },
  {
   "cell_type": "code",
   "execution_count": 3,
   "metadata": {},
   "outputs": [
    {
     "name": "stdout",
     "output_type": "stream",
     "text": [
      "False\n"
     ]
    },
    {
     "data": {
      "image/png": "[encoded data removed]",
      "text/plain": [
       "<Figure size 432x288 with 1 Axes>"
      ]
     },
     "metadata": {
      "needs_background": "light"
     },
     "output_type": "display_data"
    }
   ],
   "source": [
    "ztf_fake = ZTF_fake_LC('ZTF18aasszwr_format_r', 'FID807')\n",
    "ztf_fake.generate_fake_LC(smoth_factor=0.3, shift=-20)\n",
    "ztf_fake.visualise_intet_fit()\n"
   ]
  },
  {
   "cell_type": "markdown",
   "metadata": {},
   "source": [
    "# Save figures and output file"
   ]
  },
  {
   "cell_type": "code",
   "execution_count": 4,
   "metadata": {},
   "outputs": [
    {
     "data": {
      "image/png": "[encoded data removed]",
      "text/plain": [
       "<Figure size 432x360 with 1 Axes>"
      ]
     },
     "metadata": {
      "needs_background": "light"
     },
     "output_type": "display_data"
    }
   ],
   "source": [
    "ztf_fake.plot_fake_LC()\n",
    "ztf_fake.write_output()"
   ]
  },
  {
   "cell_type": "markdown",
   "metadata": {},
   "source": [
    "# Generate fake Flat LC"
   ]
  },
  {
   "cell_type": "code",
   "execution_count": 5,
   "metadata": {},
   "outputs": [
    {
     "data": {
      "image/png": "[encoded data removed]",
      "text/plain": [
       "<Figure size 432x360 with 1 Axes>"
      ]
     },
     "metadata": {
      "needs_background": "light"
     },
     "output_type": "display_data"
    }
   ],
   "source": [
    "ztf_fake = ZTF_fake_LC('flat', 'FID807')\n",
    "ztf_fake.generate_flat_fake_LC(mag_input=14. ,noise=0.0)\n",
    "ztf_fake.plot_fake_LC()\n",
    "ztf_fake.write_output()"
   ]
  },
  {
   "cell_type": "markdown",
   "metadata": {},
   "source": [
    "# Feature files"
   ]
  },
  {
   "cell_type": "code",
   "execution_count": 6,
   "metadata": {},
   "outputs": [
    {
     "name": "stdout",
     "output_type": "stream",
     "text": [
      "OGLE-LMC-CEP-0227_format_I 1 -550 True\n",
      "Gaia16aye_2_format_r 1.0 -80.0 False\n",
      "ZTF18aaztjyd_format_r 1.0 -60 True\n",
      "Gaia16aye_format_r 0.05 0.0 False\n",
      "ZTF18aasszwr_format_r 0.3 -20 False\n",
      "step 1 -90 False\n",
      "flat 0 0 True\n",
      "ZTF18acskgwu_format_r 1 -0.0 False\n",
      "OGLE-LMC-CEP-0227_format_V 1 -200 True\n",
      "MACHO-6.6696.60_format_R 0.3 -430 True\n",
      "ZTF18abaqxrt_format_r 0.08 -50.0 True\n",
      "ZTF18abhjrcf_format_r 4 -40 False\n",
      "flat_noise 0 0 True\n",
      "Gaia16aye_3_format_r 0.6 -20.0 False\n",
      "ZTF18ablruzq_format_r 1 -50.0 False\n",
      "MACHO-6.6696.60_format_B 0.3 -600.0 True\n",
      "Gaia16aye_format_r 0.05 60.0 False\n",
      "OGLE-LMC-CEP-0227_format_I 1 -550 True\n",
      "ZTF18aaztjyd_format_r 1.0 -60 True\n",
      "ZTF18acskgwu_format_r 1 -30.0 True\n",
      "step 1.0 -5 False\n",
      "ZTF18ablruzq_format_r 1 -50.0 True\n",
      "flat 0 0 True\n",
      "OGLE-LMC-CEP-0227_format_V 1 -200 True\n",
      "MACHO-6.6696.60_format_R 0.3 -430 True\n",
      "ZTF18abaqxrt_format_r 0.08 -50.0 True\n",
      "ZTF18abhjrcf_format_r 4 -10 True\n",
      "flat_noise 0 0 True\n",
      "ZTF18aasszwr_format_r 0.3 -20 True\n",
      "OGLE-LMC-CEP-0227_format_V 0.15 -250 True\n",
      "MACHO-6.6696.60_format_B 0.3 -750.0 True\n",
      "Gaia16aye_2_format_r 1 -350 False\n",
      "Gaia16aye_3_format_r 0.6 -20.0 False\n",
      "OGLE-LMC-CEP-0227_format_I 1 -550 True\n",
      "OGLE-LMC-CEP-0227_format_V 0.15 -130 True\n",
      "ZTF18abhjrcf_format_r 10 60 False\n",
      "ZTF18aasszwr_format_r 0.3 -20 False\n",
      "Gaia16aye_2_format_r 1.0 0.0 False\n",
      "flat 0 0 True\n",
      "ZTF18ablruzq_format_r 1 -0.0 False\n",
      "ZTF18acskgwu_format_r 1 -0.0 False\n",
      "MACHO-6.6696.60_format_R 0.3 -430 True\n",
      "ZTF18aaztjyd_format_r 1.0 20.0 False\n",
      "flat_noise 0 0 True\n",
      "MACHO-6.6696.60_format_B 0.3 -650.0 True\n",
      "Gaia16aye_format_r 0.05 20.0 False\n",
      "ZTF18acskgwu_format_r 0.8 0.0 False\n",
      "ZTF18abaqxrt_format_r 0.08 -50.0 False\n",
      "Gaia16aye_3_format_r 0.6 -20.0 False\n",
      "step 1 40 False\n"
     ]
    }
   ],
   "source": [
    "def generate_features_for_filed(field_folder, field_name):\n",
    "    fakes = []\n",
    "    for file in glob.iglob(os.path.join(field_folder, '*csv')):\n",
    "        fake = ZTF_fake_LC.from_output(file)\n",
    "        fake.extract_features()\n",
    "        fakes.append(fake)\n",
    "    write_features(\n",
    "        fakes,\n",
    "        names='../data/feature_{}.name'.format(field_name),\n",
    "        output_folder='../data/fakes/',\n",
    "        suffix='_{}_fake'.format(field_name)\n",
    "    )\n",
    "                           \n",
    "generate_features_for_filed('../data/fakes/output/FID695/', 'm31')\n",
    "generate_features_for_filed('../data/fakes/output/FID795/', 'deep')\n",
    "generate_features_for_filed('../data/fakes/output/FID807/', 'disk')"
   ]
  }
 ],
 "metadata": {
  "kernelspec": {
   "display_name": "Python 3",
   "language": "python",
   "name": "python3"
  },
  "language_info": {
   "codemirror_mode": {
    "name": "ipython",
    "version": 3
   },
   "file_extension": ".py",
   "mimetype": "text/x-python",
   "name": "python",
   "nbconvert_exporter": "python",
   "pygments_lexer": "ipython3",
   "version": "3.7.8"
  }
 },
 "nbformat": 4,
 "nbformat_minor": 2
}
