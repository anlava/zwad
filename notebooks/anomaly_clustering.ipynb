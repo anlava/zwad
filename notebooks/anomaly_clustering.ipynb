{
 "cells": [
  {
   "cell_type": "code",
   "execution_count": 1,
   "metadata": {},
   "outputs": [],
   "source": [
    "%load_ext autoreload\n",
    "%autoreload 2"
   ]
  },
  {
   "cell_type": "code",
   "execution_count": 3,
   "metadata": {},
   "outputs": [],
   "source": [
    "import numpy as np\n",
    "import pandas as pd\n",
    "from zwad.ad.preprocess import *\n",
    "from zwad.ad.postprocess import *"
   ]
  },
  {
   "cell_type": "code",
   "execution_count": 20,
   "metadata": {},
   "outputs": [],
   "source": [
    "datadir = os.path.join('..', 'data')\n",
    "\n",
    "oid, feature = load_dataset(os.path.join(datadir, 'oid_m31.dat'), os.path.join(datadir, 'feature_m31.dat'))\n",
    "# Optionally with feature names:\n",
    "# oid, feature = load_dataset(os.path.join(datadir, 'oid_m31.dat'), os.path.join(datadir, 'feature_m31.dat'), os.path.join(datadir, 'feature_m31.name'))\n",
    "anomalies_gmm = load_ad_table(os.path.join(datadir, 'm31_gmm.csv'))\n",
    "anomaly_features = extract_anomaly_features(anomalies_gmm['oid'], oid, feature)"
   ]
  },
  {
   "cell_type": "code",
   "execution_count": 21,
   "metadata": {
    "scrolled": true
   },
   "outputs": [
    {
     "data": {
      "text/plain": [
       "array([[2.3800001e+00, 2.9370630e-01, 4.8951048e-02, ..., 1.0970883e+00,\n",
       "        8.7504232e-01, 1.6457632e+01],\n",
       "       [2.0444999e+00, 3.5802469e-01, 6.1728396e-03, ..., 1.0822589e+00,\n",
       "        9.0305829e-01, 1.6626255e+01],\n",
       "       [8.0999947e-01, 3.9370079e-03, 3.9370079e-03, ..., 9.9654287e-02,\n",
       "        3.1402901e-01, 1.6848158e+01],\n",
       "       ...,\n",
       "       [2.0720000e+00, 2.2222222e-01, 4.2735044e-02, ..., 6.2597132e-01,\n",
       "        7.3348981e-01, 1.6854887e+01],\n",
       "       [3.2999992e-01, 6.1224490e-02, 8.1632650e-03, ..., 4.4723526e-02,\n",
       "        5.1094729e-01, 1.6834017e+01],\n",
       "       [1.3650036e-01, 3.5826772e-01, 3.9370079e-03, ..., 7.0678927e-02,\n",
       "        8.8457823e-01, 1.5309025e+01]], dtype=float32)"
      ]
     },
     "execution_count": 21,
     "metadata": {},
     "output_type": "execute_result"
    }
   ],
   "source": [
    "anomaly_features"
   ]
  },
  {
   "cell_type": "code",
   "execution_count": 26,
   "metadata": {},
   "outputs": [
    {
     "data": {
      "text/html": [
       "<div>\n",
       "<style scoped>\n",
       "    .dataframe tbody tr th:only-of-type {\n",
       "        vertical-align: middle;\n",
       "    }\n",
       "\n",
       "    .dataframe tbody tr th {\n",
       "        vertical-align: top;\n",
       "    }\n",
       "\n",
       "    .dataframe thead th {\n",
       "        text-align: right;\n",
       "    }\n",
       "</style>\n",
       "<table border=\"1\" class=\"dataframe\">\n",
       "  <thead>\n",
       "    <tr style=\"text-align: right;\">\n",
       "      <th></th>\n",
       "      <th>oid</th>\n",
       "      <th>tag</th>\n",
       "      <th>tag_detailed</th>\n",
       "      <th>comments</th>\n",
       "      <th>alerts</th>\n",
       "    </tr>\n",
       "  </thead>\n",
       "  <tbody>\n",
       "    <tr>\n",
       "      <th>0</th>\n",
       "      <td>695211400034403</td>\n",
       "      <td>artefact</td>\n",
       "      <td>bright star</td>\n",
       "      <td>bright star</td>\n",
       "      <td>NaN</td>\n",
       "    </tr>\n",
       "    <tr>\n",
       "      <th>1</th>\n",
       "      <td>695211400124577</td>\n",
       "      <td>artefact</td>\n",
       "      <td>bright star</td>\n",
       "      <td>bright star</td>\n",
       "      <td>NaN</td>\n",
       "    </tr>\n",
       "    <tr>\n",
       "      <th>2</th>\n",
       "      <td>695211400102351</td>\n",
       "      <td>artefact</td>\n",
       "      <td>bright star</td>\n",
       "      <td>bright star</td>\n",
       "      <td>NaN</td>\n",
       "    </tr>\n",
       "    <tr>\n",
       "      <th>3</th>\n",
       "      <td>695211400053697</td>\n",
       "      <td>artefact</td>\n",
       "      <td>bright star</td>\n",
       "      <td>bright star</td>\n",
       "      <td>NaN</td>\n",
       "    </tr>\n",
       "    <tr>\n",
       "      <th>4</th>\n",
       "      <td>695211200075348</td>\n",
       "      <td>transient</td>\n",
       "      <td>red star</td>\n",
       "      <td>MASTER transient, red star; has spectra but st...</td>\n",
       "      <td>NaN</td>\n",
       "    </tr>\n",
       "    <tr>\n",
       "      <th>...</th>\n",
       "      <td>...</td>\n",
       "      <td>...</td>\n",
       "      <td>...</td>\n",
       "      <td>...</td>\n",
       "      <td>...</td>\n",
       "    </tr>\n",
       "    <tr>\n",
       "      <th>96</th>\n",
       "      <td>695211300007276</td>\n",
       "      <td>Cepheid</td>\n",
       "      <td>NaN</td>\n",
       "      <td>NaN</td>\n",
       "      <td>NaN</td>\n",
       "    </tr>\n",
       "    <tr>\n",
       "      <th>97</th>\n",
       "      <td>695211400066438</td>\n",
       "      <td>artefact</td>\n",
       "      <td>spaceship</td>\n",
       "      <td>spaceship</td>\n",
       "      <td>NaN</td>\n",
       "    </tr>\n",
       "    <tr>\n",
       "      <th>98</th>\n",
       "      <td>695211100015190</td>\n",
       "      <td>uncat</td>\n",
       "      <td>red star</td>\n",
       "      <td>Variable; red star</td>\n",
       "      <td>NaN</td>\n",
       "    </tr>\n",
       "    <tr>\n",
       "      <th>99</th>\n",
       "      <td>695211200050499</td>\n",
       "      <td>artefact</td>\n",
       "      <td>bad column</td>\n",
       "      <td>bad column</td>\n",
       "      <td>NaN</td>\n",
       "    </tr>\n",
       "    <tr>\n",
       "      <th>100</th>\n",
       "      <td>695211200059173</td>\n",
       "      <td>uncat</td>\n",
       "      <td>binary</td>\n",
       "      <td>two blue stars, companion is known. Check better</td>\n",
       "      <td>NaN</td>\n",
       "    </tr>\n",
       "  </tbody>\n",
       "</table>\n",
       "<p>101 rows × 5 columns</p>\n",
       "</div>"
      ],
      "text/plain": [
       "                 oid        tag tag_detailed                                           comments alerts\n",
       "0    695211400034403   artefact  bright star                                        bright star    NaN\n",
       "1    695211400124577   artefact  bright star                                        bright star    NaN\n",
       "2    695211400102351   artefact  bright star                                        bright star    NaN\n",
       "3    695211400053697   artefact  bright star                                        bright star    NaN\n",
       "4    695211200075348  transient     red star  MASTER transient, red star; has spectra but st...    NaN\n",
       "..               ...        ...          ...                                                ...    ...\n",
       "96   695211300007276    Cepheid          NaN                                                NaN    NaN\n",
       "97   695211400066438   artefact    spaceship                                          spaceship    NaN\n",
       "98   695211100015190      uncat     red star                                 Variable; red star    NaN\n",
       "99   695211200050499   artefact   bad column                                         bad column    NaN\n",
       "100  695211200059173      uncat       binary   two blue stars, companion is known. Check better    NaN\n",
       "\n",
       "[101 rows x 5 columns]"
      ]
     },
     "execution_count": 26,
     "metadata": {},
     "output_type": "execute_result"
    }
   ],
   "source": [
    "expert_table = load_expert_table(os.path.join(datadir, 'm31_maria.csv')).reset_index(drop=True)\n",
    "expert_table"
   ]
  },
  {
   "cell_type": "code",
   "execution_count": null,
   "metadata": {},
   "outputs": [],
   "source": []
  }
 ],
 "metadata": {
  "kernelspec": {
   "display_name": "Python 3",
   "language": "python",
   "name": "python3"
  },
  "language_info": {
   "codemirror_mode": {
    "name": "ipython",
    "version": 3
   },
   "file_extension": ".py",
   "mimetype": "text/x-python",
   "name": "python",
   "nbconvert_exporter": "python",
   "pygments_lexer": "ipython3",
   "version": "3.8.3"
  }
 },
 "nbformat": 4,
 "nbformat_minor": 4
}
