{
 "cells": [
  {
   "cell_type": "code",
   "execution_count": 1,
   "metadata": {},
   "outputs": [],
   "source": [
    "%load_ext autoreload\n",
    "%autoreload 2"
   ]
  },
  {
   "cell_type": "code",
   "execution_count": 3,
   "metadata": {},
   "outputs": [],
   "source": [
    "import numpy as np\n",
    "import pandas as pd\n",
    "from zwad.ad.preprocess import *\n",
    "from zwad.ad.postprocess import *"
   ]
  },
  {
   "cell_type": "code",
   "execution_count": 20,
   "metadata": {},
   "outputs": [],
   "source": [
    "datadir = os.path.join('..', 'data')\n",
    "\n",
    "oid, feature = load_dataset(os.path.join(datadir, 'oid_m31.dat'), os.path.join(datadir, 'feature_m31.dat'))\n",
    "# Optionally with feature names:\n",
    "# oid, feature = load_dataset(os.path.join(datadir, 'oid_m31.dat'), os.path.join(datadir, 'feature_m31.dat'), os.path.join(datadir, 'feature_m31.name'))\n",
    "anomalies_gmm = load_ad_table(os.path.join(datadir, 'm31_gmm.csv'))\n",
    "anomaly_features = extract_anomaly_features(anomalies_gmm['oid'], oid, feature)"
   ]
  },
  {
   "cell_type": "code",
   "execution_count": 21,
   "metadata": {
    "scrolled": true
   },
   "outputs": [
    {
     "data": {
      "text/plain": [
       "array([[2.3800001e+00, 2.9370630e-01, 4.8951048e-02, ..., 1.0970883e+00,\n",
       "        8.7504232e-01, 1.6457632e+01],\n",
       "       [2.0444999e+00, 3.5802469e-01, 6.1728396e-03, ..., 1.0822589e+00,\n",
       "        9.0305829e-01, 1.6626255e+01],\n",
       "       [8.0999947e-01, 3.9370079e-03, 3.9370079e-03, ..., 9.9654287e-02,\n",
       "        3.1402901e-01, 1.6848158e+01],\n",
       "       ...,\n",
       "       [2.0720000e+00, 2.2222222e-01, 4.2735044e-02, ..., 6.2597132e-01,\n",
       "        7.3348981e-01, 1.6854887e+01],\n",
       "       [3.2999992e-01, 6.1224490e-02, 8.1632650e-03, ..., 4.4723526e-02,\n",
       "        5.1094729e-01, 1.6834017e+01],\n",
       "       [1.3650036e-01, 3.5826772e-01, 3.9370079e-03, ..., 7.0678927e-02,\n",
       "        8.8457823e-01, 1.5309025e+01]], dtype=float32)"
      ]
     },
     "execution_count": 21,
     "metadata": {},
     "output_type": "execute_result"
    }
   ],
   "source": [
    "anomaly_features"
   ]
  }
 ],
 "metadata": {
  "kernelspec": {
   "display_name": "Python 3",
   "language": "python",
   "name": "python3"
  },
  "language_info": {
   "codemirror_mode": {
    "name": "ipython",
    "version": 3
   },
   "file_extension": ".py",
   "mimetype": "text/x-python",
   "name": "python",
   "nbconvert_exporter": "python",
   "pygments_lexer": "ipython3",
   "version": "3.8.3"
  }
 },
 "nbformat": 4,
 "nbformat_minor": 4
}
